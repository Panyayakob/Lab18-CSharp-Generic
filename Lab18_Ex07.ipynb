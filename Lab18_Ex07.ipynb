{
 "cells": [
  {
   "cell_type": "markdown",
   "metadata": {
    "polyglot_notebook": {
     "kernelName": "csharp"
    }
   },
   "source": [
    "# Lab 18 Exercise 7\n",
    "\n"
   ]
  },
  {
   "cell_type": "markdown",
   "metadata": {},
   "source": [
    "## Generic list\n",
    "\n"
   ]
  },
  {
   "cell_type": "markdown",
   "metadata": {},
   "source": [
    "1.สร้าง console application project\n",
    "\n",
    "```cmd\n",
    "dotnet new console --name Lab18_Ex07\n",
    "```\n",
    "\n"
   ]
  },
  {
   "cell_type": "markdown",
   "metadata": {},
   "source": [
    "2.เปลี่ยน code ให้เป็นดังต่อไปนี้\n",
    "\n",
    "```csharp\n",
    "using System.Collections;\n",
    "\n",
    "List<string> CourseName = new List<string>();\n",
    "CourseName.Add(\"OOP\");\n",
    "CourseName.Add(\"Network\");\n",
    "CourseName.Add(\"Electronics\");\n",
    "CourseName.Add(\"Web programming\");\n",
    "\n",
    "foreach (var item in CourseName)\n",
    "{\n",
    "    System.Console.WriteLine(item);\n",
    "}\n",
    "\n",
    "List<int> CourseID = new List<int>();\n",
    "CourseID.Add(3687);\n",
    "CourseID.Add(3785);\n",
    "CourseID.Add(3781);\n",
    "CourseID.Add(3722);\n",
    "\n",
    "foreach (var item in CourseID)\n",
    "{\n",
    "    System.Console.WriteLine(item);\n",
    "}\n",
    "\n",
    "int count = CourseID.Count < CourseName.Count ? CourseID.Count : CourseName.Count;\n",
    "\n",
    "\n",
    "for (int i = 0; i < count; i++)\n",
    "{\n",
    "    Console.WriteLine(CourseID[i] + \" \" + CourseName[i]);\n",
    "}\n",
    "```\n",
    "\n"
   ]
  },
  {
   "cell_type": "markdown",
   "metadata": {},
   "source": [
    "3.Build project โดยการใช้คำสั่ง\n",
    "\n",
    "```cmd\n",
    "dotnet build  Lab18_Ex07\n",
    "```\n",
    "\n",
    "ถ้ามีที่ผิดพลาดในโปรแกรม ให้แก้ไขให้ถูกต้อง\n",
    "\n"
   ]
  },
  {
   "cell_type": "markdown",
   "metadata": {},
   "source": [
    "4.บันทึกผลที่ได้จากการรันคำสั่งในข้อ 3\n",
    "\n"
   ]
  },
  {
   "cell_type": "markdown",
   "metadata": {},
   "source": [
    "Lab18_Ex07 succeeded (1.0s) → Lab18_Ex07\\bin\\Debug\\net9.0\\Lab18_Ex07.dll\n",
    "\n",
    "Build succeeded in 2.2s"
   ]
  },
  {
   "cell_type": "markdown",
   "metadata": {},
   "source": [
    "5.Run project โดยการใช้คำสั่ง\n",
    "\n",
    "```cmd\n",
    "dotnet run --project Lab18_Ex07\n",
    "```\n",
    "\n"
   ]
  },
  {
   "cell_type": "markdown",
   "metadata": {},
   "source": [
    "6.บันทึกผลที่ได้จากการรันคำสั่งในข้อ 5\n",
    "\n"
   ]
  },
  {
   "cell_type": "markdown",
   "metadata": {},
   "source": [
    "\n",
    "oop\n",
    "\n",
    "Network\n",
    "\n",
    "Electronics\n",
    "\n",
    "Web programming\n",
    "\n",
    "3687\n",
    "\n",
    "3785\n",
    "\n",
    "3781\n",
    "\n",
    "3722\n",
    "\n",
    "3687 OOP\n",
    "\n",
    "3785 Network\n",
    "\n",
    "3781 Electronics\n",
    "\n",
    "3722 Web programming"
   ]
  },
  {
   "cell_type": "markdown",
   "metadata": {},
   "source": [
    "7.อธิบายสิ่งที่พบในการทดลอง\n"
   ]
  },
  {
   "cell_type": "markdown",
   "metadata": {},
   "source": [
    "โปรแกรมสร้างและใช้งาน List<T> เพื่อจัดเก็บข้อมูลสองชุด ได้แก่ ชื่อหลักสูตร (CourseName) และรหัสหลักสูตร (CourseID). หลังจากนั้นใช้ foreach เพื่อแสดงข้อมูลในแต่ละรายการใน List. สุดท้าย, โปรแกรมใช้ลูป for เพื่อเชื่อมโยงข้อมูลจากทั้งสอง List โดยพิจารณาจำนวนรายการที่มีน้อยที่สุดจากทั้งสอง List เพื่อไม่ให้เกิดข้อผิดพลาดจากการเข้าถึงดัชนีที่ไม่ถูกต้อง."
   ]
  }
 ],
 "metadata": {
  "kernelspec": {
   "display_name": ".NET (C#)",
   "language": "C#",
   "name": ".net-csharp"
  },
  "polyglot_notebook": {
   "kernelInfo": {
    "defaultKernelName": "csharp",
    "items": [
     {
      "aliases": [],
      "languageName": "csharp",
      "name": "csharp"
     }
    ]
   }
  }
 },
 "nbformat": 4,
 "nbformat_minor": 2
}
