{
 "cells": [
  {
   "cell_type": "markdown",
   "metadata": {
    "polyglot_notebook": {
     "kernelName": "csharp"
    }
   },
   "source": [
    "# Lab 18 Exercise 5\n",
    "\n"
   ]
  },
  {
   "cell_type": "markdown",
   "metadata": {},
   "source": [
    "## Generic static method\n",
    "\n"
   ]
  },
  {
   "cell_type": "markdown",
   "metadata": {},
   "source": [
    "1.สร้าง console application project\n",
    "\n",
    "```cmd\n",
    "dotnet new console --name Lab18_Ex05\n",
    "```\n",
    "\n"
   ]
  },
  {
   "cell_type": "markdown",
   "metadata": {},
   "source": [
    "2.เปลี่ยน code ให้เป็นดังต่อไปนี้\n",
    "\n",
    "```csharp\n",
    "// Generic static method\n",
    "\n",
    "int a = 20, b = 30;\n",
    "System.Console.WriteLine($\"Before Swap: a = {a}, b = {b}\");\n",
    "Swap<int>(ref a, ref b);\n",
    "System.Console.WriteLine($\"After Swap:  a = {a}, b = {b}\");\n",
    "\n",
    "string h = \"Hello\", w = \"World\";\n",
    "System.Console.WriteLine($\"Before Swap: h = {h}, w = {w}\");\n",
    "Swap<string>(ref h, ref w);\n",
    "System.Console.WriteLine($\"After Swap:  h = {h}, w = {w}\");\n",
    "\n",
    "static void Swap<T>(ref T a, ref T b)\n",
    "{\n",
    "    T temp;\n",
    "    temp = a;\n",
    "    a = b;\n",
    "    b = temp;\n",
    "}\n",
    "```\n",
    "\n"
   ]
  },
  {
   "cell_type": "markdown",
   "metadata": {},
   "source": [
    "3.Build project โดยการใช้คำสั่ง\n",
    "\n",
    "```cmd\n",
    "dotnet build  Lab18_Ex05\n",
    "```\n",
    "\n",
    "ถ้ามีที่ผิดพลาดในโปรแกรม ให้แก้ไขให้ถูกต้อง\n",
    "\n"
   ]
  },
  {
   "cell_type": "markdown",
   "metadata": {},
   "source": [
    "4.บันทึกผลที่ได้จากการรันคำสั่งในข้อ 3\n",
    "\n"
   ]
  },
  {
   "cell_type": "markdown",
   "metadata": {},
   "source": [
    " Lab18_Ex05 succeeded (0.7s) → Lab18_Ex05\\bin\\Debug\\net9.0\\Lab18_Ex05.dll\n",
    "\n",
    "Build succeeded in 2.0s"
   ]
  },
  {
   "cell_type": "markdown",
   "metadata": {},
   "source": [
    "5.Run project โดยการใช้คำสั่ง\n",
    "\n",
    "```cmd\n",
    "dotnet run --project Lab18_Ex05\n",
    "```\n",
    "\n"
   ]
  },
  {
   "cell_type": "markdown",
   "metadata": {},
   "source": [
    "6.บันทึกผลที่ได้จากการรันคำสั่งในข้อ 5\n",
    "\n"
   ]
  },
  {
   "cell_type": "markdown",
   "metadata": {},
   "source": [
    "Before Swap: a = 20, b = 30\n",
    "\n",
    "After Swap:  a = 30, b = 20\n",
    "\n",
    "Before Swap: h = Hello, w = World\n",
    "\n",
    "After Swap:  h = World, w = Hello"
   ]
  },
  {
   "cell_type": "markdown",
   "metadata": {},
   "source": [
    "7.อธิบายสิ่งที่พบในการทดลอง\n"
   ]
  },
  {
   "cell_type": "markdown",
   "metadata": {},
   "source": [
    "โปรแกรมใช้ generic method Swap<T> เพื่อสลับค่าระหว่างตัวแปรสองตัวที่มีประเภทข้อมูลเหมือนกัน (int หรือ string) โดยใช้ ref เพื่อให้สามารถแก้ไขค่าของตัวแปรที่ส่งเข้าไปในฟังก์ชันได้. ผลลัพธ์จะแสดงค่าของตัวแปรก่อนและหลังการสลับ."
   ]
  }
 ],
 "metadata": {
  "kernelspec": {
   "display_name": ".NET (C#)",
   "language": "C#",
   "name": ".net-csharp"
  },
  "polyglot_notebook": {
   "kernelInfo": {
    "defaultKernelName": "csharp",
    "items": [
     {
      "aliases": [],
      "languageName": "csharp",
      "name": "csharp"
     }
    ]
   }
  }
 },
 "nbformat": 4,
 "nbformat_minor": 2
}
