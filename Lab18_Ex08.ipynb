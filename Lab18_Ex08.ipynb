{
 "cells": [
  {
   "cell_type": "markdown",
   "metadata": {
    "polyglot_notebook": {
     "kernelName": "csharp"
    }
   },
   "source": [
    "# Lab 18 Exercise 8\n",
    "\n"
   ]
  },
  {
   "cell_type": "markdown",
   "metadata": {},
   "source": [
    "## Generic queue\n",
    "\n"
   ]
  },
  {
   "cell_type": "markdown",
   "metadata": {},
   "source": [
    "1.สร้าง console application project\n",
    "\n",
    "```cmd\n",
    "dotnet new console --name Lab18_Ex08\n",
    "```\n",
    "\n"
   ]
  },
  {
   "cell_type": "markdown",
   "metadata": {},
   "source": [
    "2.เปลี่ยน code ให้เป็นดังต่อไปนี้\n",
    "\n",
    "```csharp\n",
    "using System;\n",
    "using System.Collections.Generic;\n",
    "\n",
    "Queue<int> numbers = new Queue<int>();\n",
    "\n",
    "System.Console.WriteLine(\"Add 3 elements (5, 10, 15)\");\n",
    "numbers.Enqueue(5); \n",
    "numbers.Enqueue(10); \n",
    "numbers.Enqueue(15);\n",
    "\n",
    "System.Console.WriteLine(\"Items in queue:\");\n",
    "foreach (var item in numbers)\n",
    "{\n",
    "    System.Console.WriteLine(item);\n",
    "}\n",
    "\n",
    "System.Console.Write(\"Remove first item in queue : \");\n",
    "var removeItem = numbers.Dequeue();\n",
    "System.Console.WriteLine(removeItem);\n",
    "\n",
    "System.Console.WriteLine(\"Remaining items in queue:\");\n",
    "foreach (var item in numbers)\n",
    "{\n",
    "    System.Console.WriteLine(item);\n",
    "}\n",
    "```\n",
    "\n"
   ]
  },
  {
   "cell_type": "markdown",
   "metadata": {},
   "source": [
    "3.Build project โดยการใช้คำสั่ง\n",
    "\n",
    "```cmd\n",
    "dotnet build  Lab18_Ex08\n",
    "```\n",
    "\n",
    "ถ้ามีที่ผิดพลาดในโปรแกรม ให้แก้ไขให้ถูกต้อง\n",
    "\n"
   ]
  },
  {
   "cell_type": "markdown",
   "metadata": {},
   "source": [
    "4.บันทึกผลที่ได้จากการรันคำสั่งในข้อ 3\n",
    "\n"
   ]
  },
  {
   "cell_type": "markdown",
   "metadata": {},
   "source": [
    "Lab18_Ex08 succeeded (0.8s) → Lab18_Ex08\\bin\\Debug\\net9.0\\Lab18_Ex08.dll\n",
    "\n",
    "Build succeeded in 2.0s"
   ]
  },
  {
   "cell_type": "markdown",
   "metadata": {},
   "source": [
    "5.Run project โดยการใช้คำสั่ง\n",
    "\n",
    "```cmd\n",
    "dotnet run --project Lab18_Ex08\n",
    "```\n",
    "\n"
   ]
  },
  {
   "cell_type": "markdown",
   "metadata": {},
   "source": [
    "6.บันทึกผลที่ได้จากการรันคำสั่งในข้อ 5\n",
    "\n"
   ]
  },
  {
   "cell_type": "markdown",
   "metadata": {},
   "source": [
    "Add 3 elements (5, 10, 15)\n",
    "\n",
    "Items in queue:\n",
    "\n",
    "5\n",
    "\n",
    "10\n",
    "\n",
    "15\n",
    "\n",
    "Remove first item in queue : 5\n",
    "\n",
    "Remaining items in queue:\n",
    "\n",
    "10\n",
    "\n",
    "15"
   ]
  },
  {
   "cell_type": "markdown",
   "metadata": {},
   "source": [
    "7.อธิบายสิ่งที่พบในการทดลอง\n"
   ]
  },
  {
   "cell_type": "markdown",
   "metadata": {},
   "source": [
    "โปรแกรมใช้ Queue<int> เพื่อเก็บข้อมูลในลำดับที่มีการเข้าและออกแบบ FIFO (First-In, First-Out). โปรแกรมเริ่มต้นโดยการเพิ่ม (enqueue) ตัวเลข 3 ตัว ได้แก่ 5, 10, และ 15 เข้าไปในคิว. จากนั้นใช้ foreach เพื่อแสดงค่าทั้งหมดในคิว.\n",
    "\n",
    "เมื่อใช้ Dequeue() เพื่อเอาตัวแรกออกจากคิว (ตัวที่ถูกเพิ่มเข้ามาก่อน), ตัวเลข 5 จะถูกลบออกและแสดงผล. สุดท้าย, โปรแกรมแสดงค่าที่เหลือในคิวหลังจากการลบ."
   ]
  }
 ],
 "metadata": {
  "kernelspec": {
   "display_name": ".NET (C#)",
   "language": "C#",
   "name": ".net-csharp"
  },
  "polyglot_notebook": {
   "kernelInfo": {
    "defaultKernelName": "csharp",
    "items": [
     {
      "aliases": [],
      "languageName": "csharp",
      "name": "csharp"
     }
    ]
   }
  }
 },
 "nbformat": 4,
 "nbformat_minor": 2
}
