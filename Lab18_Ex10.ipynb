{
 "cells": [
  {
   "cell_type": "markdown",
   "metadata": {
    "polyglot_notebook": {
     "kernelName": "csharp"
    }
   },
   "source": [
    "# Lab 18 Exercise 10\n",
    "\n"
   ]
  },
  {
   "cell_type": "markdown",
   "metadata": {},
   "source": [
    "## Generic stack\n",
    "\n"
   ]
  },
  {
   "cell_type": "markdown",
   "metadata": {},
   "source": [
    "1.สร้าง console application project\n",
    "\n",
    "```cmd\n",
    "dotnet new console --name Lab18_Ex10\n",
    "```\n",
    "\n"
   ]
  },
  {
   "cell_type": "markdown",
   "metadata": {},
   "source": [
    "2.เปลี่ยน code ให้เป็นดังต่อไปนี้\n",
    "\n",
    "```csharp\n",
    "using System;\n",
    "using System.Collections.Generic;\n",
    "\n",
    "Stack<string> planets = new Stack<string>();\n",
    "\n",
    "System.Console.WriteLine(\"Push planets (Mercury to Pluto) into stack\");\n",
    "planets.Push(\"Mercury\");\n",
    "planets.Push(\"Venus\");\n",
    "planets.Push(\"Earth\");\n",
    "planets.Push(\"Mars\");\n",
    "planets.Push(\"Jupiter\");\n",
    "planets.Push(\"Saturn\");\n",
    "planets.Push(\"Uranus\");\n",
    "planets.Push(\"Neptune\");\n",
    "planets.Push(\"Pluto\");\n",
    "\n",
    "System.Console.WriteLine(\"Items in stack:\");\n",
    "foreach (var item in planets)\n",
    "{\n",
    "    System.Console.WriteLine(item);\n",
    "}\n",
    "\n",
    "System.Console.Write(\"Remove first item in queue : \");\n",
    "var popItem = planets.Pop();\n",
    "System.Console.WriteLine(popItem);\n",
    "\n",
    "System.Console.WriteLine(\"Remaining items in queue:\");\n",
    "foreach (var item in planets)\n",
    "{\n",
    "    System.Console.WriteLine(item);\n",
    "}\n",
    "```\n",
    "\n"
   ]
  },
  {
   "cell_type": "markdown",
   "metadata": {},
   "source": [
    "3.Build project โดยการใช้คำสั่ง\n",
    "\n",
    "```cmd\n",
    "dotnet build  Lab18_Ex10\n",
    "```\n",
    "\n",
    "ถ้ามีที่ผิดพลาดในโปรแกรม ให้แก้ไขให้ถูกต้อง\n",
    "\n"
   ]
  },
  {
   "cell_type": "markdown",
   "metadata": {},
   "source": [
    "4.บันทึกผลที่ได้จากการรันคำสั่งในข้อ 3\n",
    "\n"
   ]
  },
  {
   "cell_type": "markdown",
   "metadata": {},
   "source": [
    " Lab18_Ex10 succeeded (1.1s) → Lab18_Ex10\\bin\\Debug\\net9.0\\Lab18_Ex10.dll\n",
    "\n",
    "Build succeeded in 2.3s"
   ]
  },
  {
   "cell_type": "markdown",
   "metadata": {},
   "source": [
    "5.Run project โดยการใช้คำสั่ง\n",
    "\n",
    "```cmd\n",
    "dotnet run --project Lab18_Ex10\n",
    "```\n",
    "\n"
   ]
  },
  {
   "cell_type": "markdown",
   "metadata": {},
   "source": [
    "6.บันทึกผลที่ได้จากการรันคำสั่งในข้อ 5\n",
    "\n"
   ]
  },
  {
   "cell_type": "markdown",
   "metadata": {},
   "source": [
    "Push planets (Mercury to Pluto) into stack\n",
    "\n",
    "Items in stack:\n",
    "\n",
    "Pluto\n",
    "\n",
    "Neptune\n",
    "\n",
    "Uranus\n",
    "\n",
    "Saturn\n",
    "\n",
    "Jupiter\n",
    "\n",
    "Mars\n",
    "\n",
    "Earth\n",
    "\n",
    "Venus\n",
    "\n",
    "Mercury\n",
    "\n",
    "Remove first item in queue : Pluto\n",
    "\n",
    "Remaining items in queue:\n",
    "\n",
    "Neptune\n",
    "\n",
    "Uranus\n",
    "\n",
    "Saturn\n",
    "\n",
    "Jupiter\n",
    "\n",
    "Mars\n",
    "\n",
    "Earth\n",
    "\n",
    "Venus\n",
    "\n",
    "Mercury"
   ]
  },
  {
   "cell_type": "markdown",
   "metadata": {},
   "source": [
    "7.อธิบายสิ่งที่พบในการทดลอง\n"
   ]
  },
  {
   "cell_type": "markdown",
   "metadata": {},
   "source": [
    "โปรแกรมใช้ Stack<string> เพื่อเก็บชื่อดาวเคราะห์ในระบบสุริยะ (จาก Mercury ถึง Pluto) โดยใช้ Push เพื่อเพิ่มชื่อดาวเคราะห์เข้าไปในสแตก (stack). เมื่อใช้ Push, ข้อมูลจะถูกเพิ่มในลำดับที่ล่าสุด (LIFO: Last-In, First-Out).\n",
    "\n",
    "หลังจากเพิ่มข้อมูลทั้งหมดแล้ว, โปรแกรมใช้ foreach เพื่อแสดงชื่อดาวเคราะห์ทั้งหมดในสแตก (จะเริ่มจาก \"Pluto\" ที่ถูกเพิ่มเข้ามาล่าสุด). จากนั้น, โปรแกรมใช้ Pop() เพื่อเอาชื่อดาวเคราะห์ที่ถูกเพิ่มเข้ามาล่าสุด (ในกรณีนี้คือ \"Pluto\") ออกจากสแตกและแสดงผล. สุดท้าย, โปรแกรมแสดงดาวเคราะห์ที่เหลือในสแตกหลังจากลบดาวเคราะห์ตัวล่าสุดออก."
   ]
  }
 ],
 "metadata": {
  "kernelspec": {
   "display_name": ".NET (C#)",
   "language": "C#",
   "name": ".net-csharp"
  },
  "polyglot_notebook": {
   "kernelInfo": {
    "defaultKernelName": "csharp",
    "items": [
     {
      "aliases": [],
      "languageName": "csharp",
      "name": "csharp"
     }
    ]
   }
  }
 },
 "nbformat": 4,
 "nbformat_minor": 2
}
